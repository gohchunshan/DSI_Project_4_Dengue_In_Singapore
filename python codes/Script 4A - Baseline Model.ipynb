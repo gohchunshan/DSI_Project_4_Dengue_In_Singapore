{
 "cells": [
  {
   "cell_type": "markdown",
   "metadata": {},
   "source": [
    "<img src=\"http://imgur.com/1ZcRyrc.png\" style=\"float: left; margin: 20px; height: 55px\">\n",
    "\n",
    "# Project 4 Dengue cases in Singapore by eweeks modelling/ prediction\n",
    "\n",
    "\n",
    "In this script, we attempt to fit a Regression model to predict the number of dengue cases (y variable) depending on the various x variables ( "
   ]
  },
  {
   "cell_type": "markdown",
   "metadata": {},
   "source": [
    "##  Read in Libraries"
   ]
  },
  {
   "cell_type": "code",
   "execution_count": 1,
   "metadata": {},
   "outputs": [
    {
     "name": "stderr",
     "output_type": "stream",
     "text": [
      "C:\\Users\\gohch\\Anaconda3\\lib\\site-packages\\statsmodels\\compat\\pandas.py:56: FutureWarning: The pandas.core.datetools module is deprecated and will be removed in a future version. Please use the pandas.tseries module instead.\n",
      "  from pandas.core import datetools\n"
     ]
    }
   ],
   "source": [
    "import pandas as pd\n",
    "import numpy as np\n",
    "from datetime import datetime,timedelta\n",
    "import statsmodels.api as sm\n",
    "\n",
    "from sklearn.ensemble import BaggingRegressor, RandomForestRegressor, ExtraTreesRegressor, AdaBoostRegressor, GradientBoostingRegressor\n",
    "from sklearn.model_selection import train_test_split, cross_val_score, GridSearchCV, RandomizedSearchCV \n",
    "from sklearn.neighbors import KNeighborsRegressor, KNeighborsClassifier\n",
    "from sklearn.pipeline import Pipeline\n",
    "from sklearn.preprocessing import StandardScaler, RobustScaler, PolynomialFeatures\n",
    "from sklearn.svm import SVC, SVR\n",
    "from sklearn.tree import DecisionTreeClassifier, DecisionTreeRegressor\n",
    "from sklearn.linear_model import Ridge, Lasso, ElasticNet, LinearRegression, RidgeCV, LassoCV, ElasticNetCV\n",
    "\n",
    "import matplotlib\n",
    "import matplotlib.pyplot as plt\n",
    "import seaborn as sns"
   ]
  },
  {
   "cell_type": "code",
   "execution_count": 2,
   "metadata": {},
   "outputs": [],
   "source": [
    "df = pd.read_excel('data/Output after Merged.xlsx')"
   ]
  },
  {
   "cell_type": "code",
   "execution_count": 3,
   "metadata": {
    "scrolled": false
   },
   "outputs": [
    {
     "data": {
      "text/html": [
       "<div>\n",
       "<style scoped>\n",
       "    .dataframe tbody tr th:only-of-type {\n",
       "        vertical-align: middle;\n",
       "    }\n",
       "\n",
       "    .dataframe tbody tr th {\n",
       "        vertical-align: top;\n",
       "    }\n",
       "\n",
       "    .dataframe thead th {\n",
       "        text-align: right;\n",
       "    }\n",
       "</style>\n",
       "<table border=\"1\" class=\"dataframe\">\n",
       "  <thead>\n",
       "    <tr style=\"text-align: right;\">\n",
       "      <th></th>\n",
       "      <th>epi_week_year</th>\n",
       "      <th>start</th>\n",
       "      <th>dengue_cases</th>\n",
       "      <th>Year</th>\n",
       "      <th>Month</th>\n",
       "      <th>Day</th>\n",
       "      <th>total_rainfall</th>\n",
       "      <th>rainfall_30min</th>\n",
       "      <th>rainfall_60min</th>\n",
       "      <th>rainfall_120min</th>\n",
       "      <th>...</th>\n",
       "      <th>temperature_max</th>\n",
       "      <th>temperature_min</th>\n",
       "      <th>windspeed_mean</th>\n",
       "      <th>windspeed_max</th>\n",
       "      <th>Date</th>\n",
       "      <th>Epiweek</th>\n",
       "      <th>Town</th>\n",
       "      <th>Region</th>\n",
       "      <th>freq_dengue_gtrends</th>\n",
       "      <th>freq_wolbachia_gtrends</th>\n",
       "    </tr>\n",
       "  </thead>\n",
       "  <tbody>\n",
       "    <tr>\n",
       "      <th>0</th>\n",
       "      <td>2013-W21</td>\n",
       "      <td>19/5/2013</td>\n",
       "      <td>0</td>\n",
       "      <td>2013</td>\n",
       "      <td>5</td>\n",
       "      <td>19</td>\n",
       "      <td>52.8</td>\n",
       "      <td>4.218408</td>\n",
       "      <td>5.170072</td>\n",
       "      <td>5.854992</td>\n",
       "      <td>...</td>\n",
       "      <td>34.9</td>\n",
       "      <td>22.7</td>\n",
       "      <td>4.100000</td>\n",
       "      <td>38.9</td>\n",
       "      <td>19/5/2013</td>\n",
       "      <td>2013-W21</td>\n",
       "      <td>ang mo kio</td>\n",
       "      <td>Central</td>\n",
       "      <td>114.186851</td>\n",
       "      <td>0.0</td>\n",
       "    </tr>\n",
       "    <tr>\n",
       "      <th>1</th>\n",
       "      <td>2013-W22</td>\n",
       "      <td>26/5/2013</td>\n",
       "      <td>0</td>\n",
       "      <td>2013</td>\n",
       "      <td>5</td>\n",
       "      <td>26</td>\n",
       "      <td>56.2</td>\n",
       "      <td>4.218408</td>\n",
       "      <td>5.170072</td>\n",
       "      <td>5.854992</td>\n",
       "      <td>...</td>\n",
       "      <td>34.3</td>\n",
       "      <td>23.0</td>\n",
       "      <td>4.371429</td>\n",
       "      <td>64.8</td>\n",
       "      <td>26/5/2013</td>\n",
       "      <td>2013-W22</td>\n",
       "      <td>ang mo kio</td>\n",
       "      <td>Central</td>\n",
       "      <td>530.153238</td>\n",
       "      <td>0.0</td>\n",
       "    </tr>\n",
       "    <tr>\n",
       "      <th>2</th>\n",
       "      <td>2013-W23</td>\n",
       "      <td>2/6/2013</td>\n",
       "      <td>23</td>\n",
       "      <td>2013</td>\n",
       "      <td>6</td>\n",
       "      <td>2</td>\n",
       "      <td>123.8</td>\n",
       "      <td>3.740979</td>\n",
       "      <td>4.576394</td>\n",
       "      <td>5.233173</td>\n",
       "      <td>...</td>\n",
       "      <td>35.5</td>\n",
       "      <td>23.2</td>\n",
       "      <td>4.357143</td>\n",
       "      <td>48.2</td>\n",
       "      <td>2/6/2013</td>\n",
       "      <td>2013-W23</td>\n",
       "      <td>ang mo kio</td>\n",
       "      <td>Central</td>\n",
       "      <td>424.122590</td>\n",
       "      <td>0.0</td>\n",
       "    </tr>\n",
       "    <tr>\n",
       "      <th>3</th>\n",
       "      <td>2013-W24</td>\n",
       "      <td>9/6/2013</td>\n",
       "      <td>23</td>\n",
       "      <td>2013</td>\n",
       "      <td>6</td>\n",
       "      <td>9</td>\n",
       "      <td>8.8</td>\n",
       "      <td>3.740979</td>\n",
       "      <td>4.576394</td>\n",
       "      <td>5.233173</td>\n",
       "      <td>...</td>\n",
       "      <td>34.1</td>\n",
       "      <td>24.2</td>\n",
       "      <td>6.328571</td>\n",
       "      <td>39.2</td>\n",
       "      <td>9/6/2013</td>\n",
       "      <td>2013-W24</td>\n",
       "      <td>ang mo kio</td>\n",
       "      <td>Central</td>\n",
       "      <td>815.620366</td>\n",
       "      <td>0.0</td>\n",
       "    </tr>\n",
       "    <tr>\n",
       "      <th>4</th>\n",
       "      <td>2013-W25</td>\n",
       "      <td>16/6/2013</td>\n",
       "      <td>11</td>\n",
       "      <td>2013</td>\n",
       "      <td>6</td>\n",
       "      <td>16</td>\n",
       "      <td>1.0</td>\n",
       "      <td>3.740979</td>\n",
       "      <td>4.576394</td>\n",
       "      <td>5.233173</td>\n",
       "      <td>...</td>\n",
       "      <td>34.6</td>\n",
       "      <td>26.8</td>\n",
       "      <td>6.300000</td>\n",
       "      <td>43.9</td>\n",
       "      <td>16/6/2013</td>\n",
       "      <td>2013-W25</td>\n",
       "      <td>ang mo kio</td>\n",
       "      <td>Central</td>\n",
       "      <td>530.153238</td>\n",
       "      <td>0.0</td>\n",
       "    </tr>\n",
       "  </tbody>\n",
       "</table>\n",
       "<p>5 rows × 21 columns</p>\n",
       "</div>"
      ],
      "text/plain": [
       "  epi_week_year      start  dengue_cases  Year  Month  Day  total_rainfall  \\\n",
       "0      2013-W21  19/5/2013             0  2013      5   19            52.8   \n",
       "1      2013-W22  26/5/2013             0  2013      5   26            56.2   \n",
       "2      2013-W23   2/6/2013            23  2013      6    2           123.8   \n",
       "3      2013-W24   9/6/2013            23  2013      6    9             8.8   \n",
       "4      2013-W25  16/6/2013            11  2013      6   16             1.0   \n",
       "\n",
       "   rainfall_30min  rainfall_60min  rainfall_120min           ...            \\\n",
       "0        4.218408        5.170072         5.854992           ...             \n",
       "1        4.218408        5.170072         5.854992           ...             \n",
       "2        3.740979        4.576394         5.233173           ...             \n",
       "3        3.740979        4.576394         5.233173           ...             \n",
       "4        3.740979        4.576394         5.233173           ...             \n",
       "\n",
       "   temperature_max  temperature_min  windspeed_mean  windspeed_max       Date  \\\n",
       "0             34.9             22.7        4.100000           38.9  19/5/2013   \n",
       "1             34.3             23.0        4.371429           64.8  26/5/2013   \n",
       "2             35.5             23.2        4.357143           48.2   2/6/2013   \n",
       "3             34.1             24.2        6.328571           39.2   9/6/2013   \n",
       "4             34.6             26.8        6.300000           43.9  16/6/2013   \n",
       "\n",
       "    Epiweek        Town   Region freq_dengue_gtrends  freq_wolbachia_gtrends  \n",
       "0  2013-W21  ang mo kio  Central          114.186851                     0.0  \n",
       "1  2013-W22  ang mo kio  Central          530.153238                     0.0  \n",
       "2  2013-W23  ang mo kio  Central          424.122590                     0.0  \n",
       "3  2013-W24  ang mo kio  Central          815.620366                     0.0  \n",
       "4  2013-W25  ang mo kio  Central          530.153238                     0.0  \n",
       "\n",
       "[5 rows x 21 columns]"
      ]
     },
     "execution_count": 3,
     "metadata": {},
     "output_type": "execute_result"
    }
   ],
   "source": [
    "df.head()\n"
   ]
  },
  {
   "cell_type": "code",
   "execution_count": 4,
   "metadata": {},
   "outputs": [],
   "source": [
    "#Convert 'Month' into a categorical variable\n",
    "df['Month'] = df['Month'].apply(lambda x:str(x)) "
   ]
  },
  {
   "cell_type": "code",
   "execution_count": 5,
   "metadata": {
    "scrolled": true
   },
   "outputs": [
    {
     "data": {
      "text/plain": [
       "epi_week_year              object\n",
       "start                      object\n",
       "dengue_cases                int64\n",
       "Year                        int64\n",
       "Month                      object\n",
       "Day                         int64\n",
       "total_rainfall            float64\n",
       "rainfall_30min            float64\n",
       "rainfall_60min            float64\n",
       "rainfall_120min           float64\n",
       "temperature_mean          float64\n",
       "temperature_max           float64\n",
       "temperature_min           float64\n",
       "windspeed_mean            float64\n",
       "windspeed_max             float64\n",
       "Date                       object\n",
       "Epiweek                    object\n",
       "Town                       object\n",
       "Region                     object\n",
       "freq_dengue_gtrends       float64\n",
       "freq_wolbachia_gtrends    float64\n",
       "dtype: object"
      ]
     },
     "execution_count": 5,
     "metadata": {},
     "output_type": "execute_result"
    }
   ],
   "source": [
    "df.dtypes"
   ]
  },
  {
   "cell_type": "markdown",
   "metadata": {},
   "source": [
    "At this point, we wish to do some EDA on the individual Towns in df so that we see if there are any "
   ]
  },
  {
   "cell_type": "markdown",
   "metadata": {},
   "source": [
    "Since 'Town' and 'Region' are perfectly correlated, we want to choose 1 to be in the model and one-hot encoded as dummies, while the other one should be dropped. We also drop the variables 'epi_week_year', 'start' (start date of week), 'Date' and 'Year' as they denote time variables which are not important in a model that is not time series modelling (ARIMA)"
   ]
  },
  {
   "cell_type": "code",
   "execution_count": 6,
   "metadata": {},
   "outputs": [],
   "source": [
    "df_sub = df.drop(columns = ['epi_week_year','start','Date','Epiweek','Town','Year'])\n",
    "df_dummies = pd.get_dummies(df_sub, drop_first=True)"
   ]
  },
  {
   "cell_type": "code",
   "execution_count": 7,
   "metadata": {},
   "outputs": [
    {
     "data": {
      "text/plain": [
       "dengue_cases                int64\n",
       "Day                         int64\n",
       "total_rainfall            float64\n",
       "rainfall_30min            float64\n",
       "rainfall_60min            float64\n",
       "rainfall_120min           float64\n",
       "temperature_mean          float64\n",
       "temperature_max           float64\n",
       "temperature_min           float64\n",
       "windspeed_mean            float64\n",
       "windspeed_max             float64\n",
       "freq_dengue_gtrends       float64\n",
       "freq_wolbachia_gtrends    float64\n",
       "Month_10                    uint8\n",
       "Month_11                    uint8\n",
       "Month_12                    uint8\n",
       "Month_2                     uint8\n",
       "Month_3                     uint8\n",
       "Month_4                     uint8\n",
       "Month_5                     uint8\n",
       "Month_6                     uint8\n",
       "Month_7                     uint8\n",
       "Month_8                     uint8\n",
       "Month_9                     uint8\n",
       "Region_East                 uint8\n",
       "Region_North                uint8\n",
       "Region_North East           uint8\n",
       "Region_South                uint8\n",
       "Region_West                 uint8\n",
       "dtype: object"
      ]
     },
     "execution_count": 7,
     "metadata": {},
     "output_type": "execute_result"
    }
   ],
   "source": [
    "df_dummies.dtypes"
   ]
  },
  {
   "cell_type": "code",
   "execution_count": 8,
   "metadata": {},
   "outputs": [],
   "source": [
    "#df_dummies['dengue_cases_log'] = np.log1p(df_dummies['dengue_cases'])\n",
    "#df_dummies.drop(columns=['dengue_cases'], inplace = True)"
   ]
  },
  {
   "cell_type": "code",
   "execution_count": 9,
   "metadata": {},
   "outputs": [
    {
     "data": {
      "text/plain": [
       "(9494, 29)"
      ]
     },
     "execution_count": 9,
     "metadata": {},
     "output_type": "execute_result"
    }
   ],
   "source": [
    "df_dummies.shape"
   ]
  },
  {
   "cell_type": "markdown",
   "metadata": {},
   "source": [
    "Train-Test Split"
   ]
  },
  {
   "cell_type": "code",
   "execution_count": 11,
   "metadata": {},
   "outputs": [],
   "source": [
    "y = df_dummies['dengue_cases']\n",
    "X = df_dummies.drop(columns = 'dengue_cases', axis = 1, inplace = False, errors = 'raise')"
   ]
  },
  {
   "cell_type": "code",
   "execution_count": 20,
   "metadata": {
    "scrolled": true
   },
   "outputs": [
    {
     "name": "stdout",
     "output_type": "stream",
     "text": [
      "(9494,)\n",
      "(9494, 28)\n",
      "Day                         int64\n",
      "total_rainfall            float64\n",
      "rainfall_30min            float64\n",
      "rainfall_60min            float64\n",
      "rainfall_120min           float64\n",
      "temperature_mean          float64\n",
      "temperature_max           float64\n",
      "temperature_min           float64\n",
      "windspeed_mean            float64\n",
      "windspeed_max             float64\n",
      "freq_dengue_gtrends       float64\n",
      "freq_wolbachia_gtrends    float64\n",
      "Month_10                    uint8\n",
      "Month_11                    uint8\n",
      "Month_12                    uint8\n",
      "Month_2                     uint8\n",
      "Month_3                     uint8\n",
      "Month_4                     uint8\n",
      "Month_5                     uint8\n",
      "Month_6                     uint8\n",
      "Month_7                     uint8\n",
      "Month_8                     uint8\n",
      "Month_9                     uint8\n",
      "Region_East                 uint8\n",
      "Region_North                uint8\n",
      "Region_North East           uint8\n",
      "Region_South                uint8\n",
      "Region_West                 uint8\n",
      "dtype: object\n"
     ]
    }
   ],
   "source": [
    "print(y.shape)\n",
    "print(X.shape)\n",
    "print(X.dtypes)"
   ]
  },
  {
   "cell_type": "code",
   "execution_count": 21,
   "metadata": {},
   "outputs": [],
   "source": [
    "# Split the data into the training and testing sets for normal tokenized words\n",
    "X_train, X_test, y_train, y_test = train_test_split(X,\n",
    "                                                    y,\n",
    "                                                    test_size=0.25,\n",
    "                                                    random_state=42)"
   ]
  },
  {
   "cell_type": "code",
   "execution_count": 22,
   "metadata": {},
   "outputs": [],
   "source": [
    "ss = StandardScaler()\n",
    "rs = RobustScaler()\n",
    "Xs_train = ss.fit_transform(X_train)\n",
    "Xr_train = rs.fit_transform(X_train)\n",
    "Xs_test = ss.fit_transform(X_test)\n",
    "Xr_test = rs.fit_transform(X_test)"
   ]
  },
  {
   "cell_type": "code",
   "execution_count": 23,
   "metadata": {},
   "outputs": [
    {
     "name": "stdout",
     "output_type": "stream",
     "text": [
      "[0.14958856 0.1432256  0.10699498 0.13049505 0.15134838]\n",
      "0.136330515147919\n"
     ]
    }
   ],
   "source": [
    "lr = LinearRegression()\n",
    "\n",
    "lr.fit(X_train, y_train)\n",
    "\n",
    "#lr.score(X_test, y_test) #cannot score as we are not given y_test\n",
    "\n",
    "lr_scores = cross_val_score(lr, X_train, y_train, cv= 5) #Use scaled Xs instead of X_train\n",
    "\n",
    "print (lr_scores)\n",
    "print (np.mean(lr_scores)) "
   ]
  },
  {
   "cell_type": "code",
   "execution_count": 106,
   "metadata": {},
   "outputs": [
    {
     "name": "stdout",
     "output_type": "stream",
     "text": [
      "[0.14958856 0.1432256  0.10699498 0.13049505 0.15134838]\n",
      "-533.3777031682488\n",
      "0.057332085117190366\n"
     ]
    }
   ],
   "source": [
    "lr2 = LinearRegression()\n",
    "\n",
    "lr2.fit(Xs, y_train)\n",
    "\n",
    "lr2_scores = cross_val_score(lr2, Xs, y_train, cv= 5) #Use scaled Xs instead of X_train\n",
    "\n",
    "print (lr2_scores)\n",
    "print(lr2.score(X_test, y_test) )\n",
    "print (np.mean(lr_scores)) "
   ]
  },
  {
   "cell_type": "code",
   "execution_count": 24,
   "metadata": {},
   "outputs": [
    {
     "data": {
      "text/plain": [
       "<matplotlib.axes._subplots.AxesSubplot at 0x219a02dacc0>"
      ]
     },
     "execution_count": 24,
     "metadata": {},
     "output_type": "execute_result"
    },
    {
     "data": {
      "image/png": "[encoded data removed]",
      "text/plain": [
       "<matplotlib.figure.Figure at 0x219a026f9b0>"
      ]
     },
     "metadata": {},
     "output_type": "display_data"
    }
   ],
   "source": [
    "model_sm = sm.OLS(y_train, X_train).fit()\n",
    "sns.regplot(model_sm.predict(X_train),y_train)"
   ]
  },
  {
   "cell_type": "code",
   "execution_count": null,
   "metadata": {
    "scrolled": false
   },
   "outputs": [],
   "source": [
    "model_sm = sm.OLS(y_train, X_train).fit()\n",
    "sns.regplot(model_sm.predict(X_train),y_train)"
   ]
  },
  {
   "cell_type": "code",
   "execution_count": 96,
   "metadata": {},
   "outputs": [
    {
     "data": {
      "text/plain": [
       "<matplotlib.axes._subplots.AxesSubplot at 0x275cd3e50b8>"
      ]
     },
     "execution_count": 96,
     "metadata": {},
     "output_type": "execute_result"
    },
    {
     "data": {
      "image/png": "[encoded data removed]",
      "text/plain": [
       "<matplotlib.figure.Figure at 0x275cc8733c8>"
      ]
     },
     "metadata": {},
     "output_type": "display_data"
    }
   ],
   "source": [
    "model_sm = sm.OLS(y_train, X_train).fit()\n",
    "sns.regplot(model_sm.predict(X_train),y_train)"
   ]
  },
  {
   "cell_type": "markdown",
   "metadata": {},
   "source": [
    "We can see from this graph that the relationship between number of dengue cases and its regressors are highly not linear. Most weekly dengue cases do not exceed 400, while there are a handful that exceed above that threshold. Hence the linear regression model is limited at predicting number of dengue cases"
   ]
  },
  {
   "cell_type": "code",
   "execution_count": 73,
   "metadata": {
    "scrolled": false
   },
   "outputs": [
    {
     "data": {
      "text/html": [
       "<table class=\"simpletable\">\n",
       "<caption>OLS Regression Results</caption>\n",
       "<tr>\n",
       "  <th>Dep. Variable:</th>      <td>dengue_cases</td>   <th>  R-squared:         </th> <td>   0.111</td> \n",
       "</tr>\n",
       "<tr>\n",
       "  <th>Model:</th>                   <td>OLS</td>       <th>  Adj. R-squared:    </th> <td>   0.108</td> \n",
       "</tr>\n",
       "<tr>\n",
       "  <th>Method:</th>             <td>Least Squares</td>  <th>  F-statistic:       </th> <td>   31.65</td> \n",
       "</tr>\n",
       "<tr>\n",
       "  <th>Date:</th>             <td>Fri, 13 Jan 2023</td> <th>  Prob (F-statistic):</th> <td>4.61e-158</td>\n",
       "</tr>\n",
       "<tr>\n",
       "  <th>Time:</th>                 <td>22:16:05</td>     <th>  Log-Likelihood:    </th> <td> -39900.</td> \n",
       "</tr>\n",
       "<tr>\n",
       "  <th>No. Observations:</th>      <td>  7120</td>      <th>  AIC:               </th> <td>7.986e+04</td>\n",
       "</tr>\n",
       "<tr>\n",
       "  <th>Df Residuals:</th>          <td>  7092</td>      <th>  BIC:               </th> <td>8.005e+04</td>\n",
       "</tr>\n",
       "<tr>\n",
       "  <th>Df Model:</th>              <td>    28</td>      <th>                     </th>     <td> </td>    \n",
       "</tr>\n",
       "<tr>\n",
       "  <th>Covariance Type:</th>      <td>nonrobust</td>    <th>                     </th>     <td> </td>    \n",
       "</tr>\n",
       "</table>\n",
       "<table class=\"simpletable\">\n",
       "<tr>\n",
       "             <td></td>               <th>coef</th>     <th>std err</th>      <th>t</th>      <th>P>|t|</th>  <th>[0.025</th>    <th>0.975]</th>  \n",
       "</tr>\n",
       "<tr>\n",
       "  <th>Day</th>                    <td>   -0.0519</td> <td>    0.089</td> <td>   -0.582</td> <td> 0.560</td> <td>   -0.227</td> <td>    0.123</td>\n",
       "</tr>\n",
       "<tr>\n",
       "  <th>total_rainfall</th>         <td>    0.0270</td> <td>    0.018</td> <td>    1.515</td> <td> 0.130</td> <td>   -0.008</td> <td>    0.062</td>\n",
       "</tr>\n",
       "<tr>\n",
       "  <th>rainfall_30min</th>         <td>   -0.1642</td> <td>    0.324</td> <td>   -0.507</td> <td> 0.612</td> <td>   -0.798</td> <td>    0.470</td>\n",
       "</tr>\n",
       "<tr>\n",
       "  <th>rainfall_60min</th>         <td>    0.2576</td> <td>    0.422</td> <td>    0.611</td> <td> 0.541</td> <td>   -0.569</td> <td>    1.084</td>\n",
       "</tr>\n",
       "<tr>\n",
       "  <th>rainfall_120min</th>        <td>    0.0908</td> <td>    0.247</td> <td>    0.368</td> <td> 0.713</td> <td>   -0.393</td> <td>    0.575</td>\n",
       "</tr>\n",
       "<tr>\n",
       "  <th>temperature_mean</th>       <td>   -7.8892</td> <td>    1.602</td> <td>   -4.924</td> <td> 0.000</td> <td>  -11.030</td> <td>   -4.748</td>\n",
       "</tr>\n",
       "<tr>\n",
       "  <th>temperature_max</th>        <td>    2.8421</td> <td>    0.923</td> <td>    3.079</td> <td> 0.002</td> <td>    1.033</td> <td>    4.651</td>\n",
       "</tr>\n",
       "<tr>\n",
       "  <th>temperature_min</th>        <td>    5.3217</td> <td>    0.915</td> <td>    5.815</td> <td> 0.000</td> <td>    3.528</td> <td>    7.116</td>\n",
       "</tr>\n",
       "<tr>\n",
       "  <th>windspeed_mean</th>         <td>    1.9998</td> <td>    0.437</td> <td>    4.575</td> <td> 0.000</td> <td>    1.143</td> <td>    2.857</td>\n",
       "</tr>\n",
       "<tr>\n",
       "  <th>windspeed_max</th>          <td>   -0.0752</td> <td>    0.109</td> <td>   -0.691</td> <td> 0.490</td> <td>   -0.289</td> <td>    0.138</td>\n",
       "</tr>\n",
       "<tr>\n",
       "  <th>freq_dengue_gtrends</th>    <td>    0.1106</td> <td>    0.012</td> <td>    8.991</td> <td> 0.000</td> <td>    0.087</td> <td>    0.135</td>\n",
       "</tr>\n",
       "<tr>\n",
       "  <th>freq_wolbachia_gtrends</th> <td>    0.1388</td> <td>    0.036</td> <td>    3.843</td> <td> 0.000</td> <td>    0.068</td> <td>    0.210</td>\n",
       "</tr>\n",
       "<tr>\n",
       "  <th>Month_10</th>               <td>    5.3675</td> <td>    3.900</td> <td>    1.376</td> <td> 0.169</td> <td>   -2.277</td> <td>   13.012</td>\n",
       "</tr>\n",
       "<tr>\n",
       "  <th>Month_11</th>               <td>    1.8458</td> <td>    3.943</td> <td>    0.468</td> <td> 0.640</td> <td>   -5.883</td> <td>    9.574</td>\n",
       "</tr>\n",
       "<tr>\n",
       "  <th>Month_12</th>               <td>    1.6922</td> <td>    3.728</td> <td>    0.454</td> <td> 0.650</td> <td>   -5.616</td> <td>    9.000</td>\n",
       "</tr>\n",
       "<tr>\n",
       "  <th>Month_2</th>                <td>   -0.8231</td> <td>    4.006</td> <td>   -0.205</td> <td> 0.837</td> <td>   -8.676</td> <td>    7.030</td>\n",
       "</tr>\n",
       "<tr>\n",
       "  <th>Month_3</th>                <td>    0.6937</td> <td>    3.949</td> <td>    0.176</td> <td> 0.861</td> <td>   -7.048</td> <td>    8.436</td>\n",
       "</tr>\n",
       "<tr>\n",
       "  <th>Month_4</th>                <td>    1.9343</td> <td>    4.011</td> <td>    0.482</td> <td> 0.630</td> <td>   -5.929</td> <td>    9.797</td>\n",
       "</tr>\n",
       "<tr>\n",
       "  <th>Month_5</th>                <td>    3.5276</td> <td>    3.996</td> <td>    0.883</td> <td> 0.377</td> <td>   -4.306</td> <td>   11.361</td>\n",
       "</tr>\n",
       "<tr>\n",
       "  <th>Month_6</th>                <td>   10.6462</td> <td>    3.978</td> <td>    2.676</td> <td> 0.007</td> <td>    2.848</td> <td>   18.445</td>\n",
       "</tr>\n",
       "<tr>\n",
       "  <th>Month_7</th>                <td>   27.7841</td> <td>    3.914</td> <td>    7.099</td> <td> 0.000</td> <td>   20.112</td> <td>   35.456</td>\n",
       "</tr>\n",
       "<tr>\n",
       "  <th>Month_8</th>                <td>   23.7297</td> <td>    3.838</td> <td>    6.183</td> <td> 0.000</td> <td>   16.206</td> <td>   31.254</td>\n",
       "</tr>\n",
       "<tr>\n",
       "  <th>Month_9</th>                <td>   16.2409</td> <td>    3.945</td> <td>    4.117</td> <td> 0.000</td> <td>    8.507</td> <td>   23.974</td>\n",
       "</tr>\n",
       "<tr>\n",
       "  <th>Region_East</th>            <td>  -13.2573</td> <td>    3.400</td> <td>   -3.899</td> <td> 0.000</td> <td>  -19.923</td> <td>   -6.592</td>\n",
       "</tr>\n",
       "<tr>\n",
       "  <th>Region_North</th>           <td>  -32.0354</td> <td>    3.545</td> <td>   -9.036</td> <td> 0.000</td> <td>  -38.985</td> <td>  -25.085</td>\n",
       "</tr>\n",
       "<tr>\n",
       "  <th>Region_North East</th>      <td>  -23.7938</td> <td>    3.575</td> <td>   -6.656</td> <td> 0.000</td> <td>  -30.801</td> <td>  -16.786</td>\n",
       "</tr>\n",
       "<tr>\n",
       "  <th>Region_South</th>           <td>  -32.2797</td> <td>    3.565</td> <td>   -9.054</td> <td> 0.000</td> <td>  -39.268</td> <td>  -25.291</td>\n",
       "</tr>\n",
       "<tr>\n",
       "  <th>Region_West</th>            <td>  -29.9195</td> <td>    3.050</td> <td>   -9.811</td> <td> 0.000</td> <td>  -35.898</td> <td>  -23.941</td>\n",
       "</tr>\n",
       "</table>\n",
       "<table class=\"simpletable\">\n",
       "<tr>\n",
       "  <th>Omnibus:</th>       <td>11135.014</td> <th>  Durbin-Watson:     </th>  <td>   2.016</td>  \n",
       "</tr>\n",
       "<tr>\n",
       "  <th>Prob(Omnibus):</th>  <td> 0.000</td>   <th>  Jarque-Bera (JB):  </th> <td>5722463.626</td>\n",
       "</tr>\n",
       "<tr>\n",
       "  <th>Skew:</th>           <td>10.046</td>   <th>  Prob(JB):          </th>  <td>    0.00</td>  \n",
       "</tr>\n",
       "<tr>\n",
       "  <th>Kurtosis:</th>       <td>140.424</td>  <th>  Cond. No.          </th>  <td>1.69e+03</td>  \n",
       "</tr>\n",
       "</table>"
      ],
      "text/plain": [
       "<class 'statsmodels.iolib.summary.Summary'>\n",
       "\"\"\"\n",
       "                            OLS Regression Results                            \n",
       "==============================================================================\n",
       "Dep. Variable:           dengue_cases   R-squared:                       0.111\n",
       "Model:                            OLS   Adj. R-squared:                  0.108\n",
       "Method:                 Least Squares   F-statistic:                     31.65\n",
       "Date:                Fri, 13 Jan 2023   Prob (F-statistic):          4.61e-158\n",
       "Time:                        22:16:05   Log-Likelihood:                -39900.\n",
       "No. Observations:                7120   AIC:                         7.986e+04\n",
       "Df Residuals:                    7092   BIC:                         8.005e+04\n",
       "Df Model:                          28                                         \n",
       "Covariance Type:            nonrobust                                         \n",
       "==========================================================================================\n",
       "                             coef    std err          t      P>|t|      [0.025      0.975]\n",
       "------------------------------------------------------------------------------------------\n",
       "Day                       -0.0519      0.089     -0.582      0.560      -0.227       0.123\n",
       "total_rainfall             0.0270      0.018      1.515      0.130      -0.008       0.062\n",
       "rainfall_30min            -0.1642      0.324     -0.507      0.612      -0.798       0.470\n",
       "rainfall_60min             0.2576      0.422      0.611      0.541      -0.569       1.084\n",
       "rainfall_120min            0.0908      0.247      0.368      0.713      -0.393       0.575\n",
       "temperature_mean          -7.8892      1.602     -4.924      0.000     -11.030      -4.748\n",
       "temperature_max            2.8421      0.923      3.079      0.002       1.033       4.651\n",
       "temperature_min            5.3217      0.915      5.815      0.000       3.528       7.116\n",
       "windspeed_mean             1.9998      0.437      4.575      0.000       1.143       2.857\n",
       "windspeed_max             -0.0752      0.109     -0.691      0.490      -0.289       0.138\n",
       "freq_dengue_gtrends        0.1106      0.012      8.991      0.000       0.087       0.135\n",
       "freq_wolbachia_gtrends     0.1388      0.036      3.843      0.000       0.068       0.210\n",
       "Month_10                   5.3675      3.900      1.376      0.169      -2.277      13.012\n",
       "Month_11                   1.8458      3.943      0.468      0.640      -5.883       9.574\n",
       "Month_12                   1.6922      3.728      0.454      0.650      -5.616       9.000\n",
       "Month_2                   -0.8231      4.006     -0.205      0.837      -8.676       7.030\n",
       "Month_3                    0.6937      3.949      0.176      0.861      -7.048       8.436\n",
       "Month_4                    1.9343      4.011      0.482      0.630      -5.929       9.797\n",
       "Month_5                    3.5276      3.996      0.883      0.377      -4.306      11.361\n",
       "Month_6                   10.6462      3.978      2.676      0.007       2.848      18.445\n",
       "Month_7                   27.7841      3.914      7.099      0.000      20.112      35.456\n",
       "Month_8                   23.7297      3.838      6.183      0.000      16.206      31.254\n",
       "Month_9                   16.2409      3.945      4.117      0.000       8.507      23.974\n",
       "Region_East              -13.2573      3.400     -3.899      0.000     -19.923      -6.592\n",
       "Region_North             -32.0354      3.545     -9.036      0.000     -38.985     -25.085\n",
       "Region_North East        -23.7938      3.575     -6.656      0.000     -30.801     -16.786\n",
       "Region_South             -32.2797      3.565     -9.054      0.000     -39.268     -25.291\n",
       "Region_West              -29.9195      3.050     -9.811      0.000     -35.898     -23.941\n",
       "==============================================================================\n",
       "Omnibus:                    11135.014   Durbin-Watson:                   2.016\n",
       "Prob(Omnibus):                  0.000   Jarque-Bera (JB):          5722463.626\n",
       "Skew:                          10.046   Prob(JB):                         0.00\n",
       "Kurtosis:                     140.424   Cond. No.                     1.69e+03\n",
       "==============================================================================\n",
       "\n",
       "Warnings:\n",
       "[1] Standard Errors assume that the covariance matrix of the errors is correctly specified.\n",
       "[2] The condition number is large, 1.69e+03. This might indicate that there are\n",
       "strong multicollinearity or other numerical problems.\n",
       "\"\"\""
      ]
     },
     "execution_count": 73,
     "metadata": {},
     "output_type": "execute_result"
    }
   ],
   "source": [
    "model_sm.summary()"
   ]
  },
  {
   "cell_type": "markdown",
   "metadata": {},
   "source": [
    "The R squared and adjusted R squared which show the goodness of fit of the model is quite low at 0.1.\n",
    "For metrics, we evaluate the accuracy and RMSE of the model."
   ]
  },
  {
   "cell_type": "markdown",
   "metadata": {},
   "source": [
    "Baseline Linear Regression Model: Our model does not perform well, with only a R-squared of 0.1.\n",
    "Surprisingly, the x variables that were the most significant with p<0.1 were temperature_mean, temperature_min, windspeed_mean, freq_dengue_gtrends and freq_wolbachia_gtrends, as well as the one-hot encoded variables for all 5 regions (East, North, South, West, North East), and the months 7,8,9 (July August and September).\n",
    "By looking at whether the coefficients of these significant variables were positive/ negative, we can conclude that xxx"
   ]
  }
 ],
 "metadata": {
  "kernelspec": {
   "display_name": "Python 3",
   "language": "python",
   "name": "python3"
  },
  "language_info": {
   "codemirror_mode": {
    "name": "ipython",
    "version": 3
   },
   "file_extension": ".py",
   "mimetype": "text/x-python",
   "name": "python",
   "nbconvert_exporter": "python",
   "pygments_lexer": "ipython3",
   "version": "3.6.4"
  }
 },
 "nbformat": 4,
 "nbformat_minor": 5
}
